{
 "cells": [
  {
   "cell_type": "code",
   "execution_count": 1,
   "id": "e86a5a77-a1c7-4d64-84e5-8fd4c0deed01",
   "metadata": {},
   "outputs": [],
   "source": [
    "import re\n",
    "import numpy as np\n",
    "from langchain_openai import OpenAIEmbeddings,ChatOpenAI\n",
    "import openai"
   ]
  },
  {
   "cell_type": "code",
   "execution_count": 2,
   "id": "9bb1956e-4aca-468f-9f9b-57584c6cb3a3",
   "metadata": {},
   "outputs": [],
   "source": [
    "from langchain_text_splitters import RecursiveCharacterTextSplitter\n",
    "from langchain_core.prompts import PromptTemplate\n",
    "from langchain_core.output_parsers import StrOutputParser"
   ]
  },
  {
   "cell_type": "code",
   "execution_count": 3,
   "id": "a02777a5-627e-4d63-8116-b66fad8d15c1",
   "metadata": {},
   "outputs": [],
   "source": [
    "from langchain_community.document_loaders import TextLoader\n",
    "from langchain_community.vectorstores import FAISS\n",
    "from langchain_core.vectorstores import VectorStoreRetriever\n",
    "from langchain.chains import RetrievalQA\n",
    "import os"
   ]
  },
  {
   "cell_type": "code",
   "execution_count": 4,
   "id": "22bab3f6-85cd-4155-9cb7-e24e4ab235f8",
   "metadata": {},
   "outputs": [],
   "source": [
    "loader=TextLoader(\"Reliance.txt\")"
   ]
  },
  {
   "cell_type": "code",
   "execution_count": 5,
   "id": "c9cb355c-f3c1-448b-9a70-26f5e6711934",
   "metadata": {},
   "outputs": [
    {
     "data": {
      "text/plain": [
       "[Document(metadata={'source': 'Reliance.txt'}, page_content='\\nAdoption of concepts like circularity in our chemical products also brings us closer to a low carbon economy. We have partnered with accomplished innovator entities globally, with whom we share the common goal of establishing a sustainable world economy. We are leveraging their expertise to derive maximum value for our new energy initiatives. We recognize the urgency of addressing the issues emanating from climate change. We believe our new energy initiatives will contribute to the global effort of limiting the rise in average temperatures.\\n\\nIt is important for us to ensure the wellbeing of our employees and communities. We lay great emphasis on the health, safety, and development of all our employees, customers, business partners, and local communities. Human rights considerations have been at the core of Reliance’s DNA since inception. The principles of human rights are enshrined in our internal codes of conduct as well as our business partner codes of conduct. Our Reliance Foundation works round the clock driving initiatives in education, healthcare, and social development that have impacted millions of lives over the years. Abiding by our principle of inclusive growth, our teams across businesses work at a grassroots level to identify the needs of every stakeholder involved and commit to securing their interests and maintaining their satisfaction.\\n\\nManaging large and diverse businesses is not possible without a robust governance structure. We, as a company, have always strived to maintain the highest levels of governance in our management. We emphasize the importance of Board oversight, given the fact that the company’s diverse and evolving operations impact essential sectors of the Indian economy. The Board Committees at Reliance have clearly defined roles and mandates. We are committed to adhering to the best practices and to adapting to emerging standards of governance. Pursuing the path of good governance, we constituted the ESG committee to ensure our continued alignment to best ESG practices and compliance with applicable ESG frameworks. The committee will advise the board and other committees on environmental, social, and governance aspects involved in the conduct of business activities.\\n\\nWe have entered an era of transformation – transformation to a greener and more inclusive economy. Our businesses, our people, and our practices are evolving and adapting to the new age with renewed zest. Our newest growth engine, our new energy business, is poised to become a pioneer and lead the way towards a just global energy transition.\\n\\nCreation of an Independent Financial Services Business\\n\\nMy dear friends, as you are aware, this year we have demerged our financial services arm into a separate listed entity named “Jio Financial Services Limited” (JFS). I thank you for your wholehearted support to this initiative.\\n\\nToday’s India is young and entrepreneurial, adopting digital finance at an unprecedented pace. The digital revolution has penetrated every corner of the nation through Jandhan Accounts, digital payments, usage of smartphones, and low-cost data. The growth opportunities presented by financial services are remarkable and provide strong directional support to the economy.\\n\\nAs various financial services are governed by different regulatory frameworks, we believe an independent financial services entity will allow us to access the opportunities available in the Indian market. Jio Financial Services Limited, along with its subsidiaries, will leverage the technological capabilities of Reliance and digitally deliver financial services, democratizing access to financial services offerings for Indian citizens. Jio Financial Services aims to provide simple, affordable, and innovative digital-first solutions.\\n\\nJio Financial Services Limited is positioned uniquely to capture the growth opportunities in the financial services sector and play a crucial role in transforming the landscape of digital finance in India.\\n\\nFinancial Performance Summary for the Year\\n\\nThere was continued volatility in the global markets amidst disruptions in trade flows and economic uncertainties. Despite the headwinds, Reliance was able to deliver another year of remarkable performance both on operating and financial fronts. Consolidated EBITDA was at ₹1,53,920 crore, which is a robust 24.4% growth as compared to last year. Consolidated net profit also grew at 11.3% to ₹73,670 crore. The impressive growth was well-rounded and supported by all our business segments. Consumer businesses continued their growth trajectory with a rapid expansion of the retail store footprint and strong subscriber acquisition in Jio. O2C business delivered a record performance amidst a challenging business environment.\\n\\nA switch to cleaner energy sources is key to our decarbonisation strategy. We are making significant strides in establishing a world-class solar energy value chain. We are also progressing on building a green hydrogen ecosystem. Our goal is to provide affordable green hydrogen as a viable alternative to traditional fuels. Our goal is to become Net Carbon Zero by 2035. Accordingly, the development of giga factories at the Dhirubhai Ambani Green Energy Giga Complex at Jamnagar is progressing rapidly. Considering the collective potential of our five giga factories, we are well on track for establishing a world-class, self-sufficient green energy ecosystem.\\n\\nThe transition from traditional fossil fuels to renewable energy sources is going to be a crucial milestone in our history. We, as a company, have a proven record of creating value through transformational changes, be it the digital revolution through Jio, transforming consumer experience and the retail landscape in India, or the integration of our refining and petrochemicals businesses into the oil-to-chemicals value chain.\\n\\nCONSOLIDATED EBITDA\\n₹1,53,920 CRORE\\n\\nCONSOLIDATED NET PROFIT\\n₹73,670 CRORE\\n\\nDear and esteemed fellow shareholders, We, at Reliance, have a deep-rooted belief that sustainability is an integral part of enterprise growth. The tremendous stress that mankind has exerted on natural resources since the advent of the Industrial Revolution has brought us to a stage where we need to collectively ramp up our efforts to combat climate change.\\n\\nThe Paris Agreement of 2015, entered into at the 21st Conference of Parties (COP 21), brought the world together in this pursuit. Our company’s ESG ambitions are aligned with this global quest. On a personal note, it is a privilege for me to serve on the Advisory Committee of COP 28 UAE and contribute to this ongoing effort.\\n\\nOil and gas segment also registered a strong performance with sustained gas production from the KG D6 block. Elevated inflation levels led to an aggressive rate hike by central banks through the financial year. Our prudent financial framework helped optimize the returns and minimize the risks while providing adequate liquidity to our businesses. Our strong cash flows from operations have ably supported growth capex requirements. Over the past 2 years, 98% of the company’s capex has been funded by internally generated cash profits. This has helped us maintain a strong and conservative balance sheet and retain superior investment-grade ratings.\\n\\nRobust Operational Performance\\n\\nReliance touches the lives of millions of consumers in India and worldwide through its energy and consumer businesses. Our teams across businesses work dedicatedly to achieve operational excellence and deliver quality performance. Premier League on Jio Cinema. Jio Platforms powered the technology behind streaming these events. The new home broadband backup plan is the latest addition to the bouquet of broadband services and is expected to grow the broadband market further. Jio retained its preeminent position in the Indian telecom space with 439.3 million subscribers as of March 2023, with a net addition of 29.2 million subscribers during the year. The strong growth in the digital services business is aptly reflected in its financial performance for the year. With an increase of 24.9% from the previous year, digital services EBITDA for FY 2022-23 stood at ₹50,286 crore.\\n\\nJio commits itself to continually innovate and launch newer technologies and products and expand the market for digital services. Jio True 5G stack is one such feature-loaded indigenous technology, offering superior performance. It is secure, cost-effective, and easy to install. This technology is fully cloud-native, software-defined, digitally managed, and supports advanced features like Quantum Security. Jio AirFiber is also an innovative solution, offering clutter-free and high-speed connectivity to users with the capability of supporting multiple devices simultaneously without compromising on the quality of connectivity. JioDive is a technology that helps users explore the virtual reality universe through a smartphone-based headset. JioDive runs on the JioImmerse application, which offers users exclusive VR experiences in gaming, learning, entertainment, and wellness, all accessible through their smartphones.\\n\\nI believe Jio’s digital offerings have established it as a strong market leader in India’s digital services ecosystem. The scale of Jio’s operations and the advantages of deep penetration help Jio grow stronger with the launch of each new offering. Jio’s vision is to make the highest level of connectivity available to the masses at affordable prices at all times.\\n\\nRetail\\n\\nReliance Retail further consolidated its position as the largest retailer in India and the only Indian retailer to feature in the top 100 retailers globally. FY 2022-23 witnessed Reliance Retail cross the 1 billion transactions mark. The retail business expanded its store network with over 3,300 new stores added during the financial year, taking the store tally to 18,040 stores pan-India. Our stores now cover 65.6 million sq. ft. of store area, which is a more than 50% growth of retail space as compared to the previous year. Footfalls increased by 50% from last year to 780 million. The registered customer base also grew to 249 million, establishing Reliance Retail as the preferred shopping venue of Indian citizens across formats.\\n\\nDuring the year, Reliance Retail entered the beauty segment by launching the “Tira” digital platform and opening its flagship store in Mumbai. The business also expanded its product basket through acquisitions and partnerships at both local and global levels like Metro, Campa Cola, GAP, Pret A Manger, Lotus, Sosyo, Maliban, Toffeeman, to name a few. Reliance Retails runs an integrated network of physical stores, digital commerce, and new commerce initiatives. Through digital brands like Ajio and Netmeds, the business is continuously expanding its reach to newer markets, thereby gaining an edge in the burgeoning e-commerce space.\\n\\nThe increasing demand for good quality fresh produce has led us to focus on the farm-to-fork journey of our produce offerings. We have intensified our efforts to strengthen the agricultural supply chain and improve the productivity of farmers. Reliance Retail is working towards digitizing the supply chain and aggregating outputs to help deliver produce fresh to its consumers. The retail business also continues to be a partner of choice for brands globally. We have collaborated with several prestigious international brands and launched joint retail operations in the country.\\n\\nWe are progressing on our journey of creating shared value for our customers, business partners, employees, shareholders, and society. We are focused on addressing India’s growing requirements for good quality products at affordable prices. I am happy to announce that Reliance Retail is already among the top 10 employers globally, with an employee strength of over 4.8 lakh people. This growth journey has been supported by the strong financial performance of the retail business. In FY 2022-23, Reliance Retail delivered a solid performance with revenues of ₹2,60,364 crore and EBITDA of ₹17,928 crore.\\n\\nThe growth is attributable to a customer-centric approach, adoption of new-age technologies and digital commerce platforms, and customer-oriented strategies. Consumer demand continues to grow steadily, with an increasing preference for organized retailers and established brands. The strength of the retail business is mirrored in its financial performance. Retail business revenues grew 30.4% year-on-year, and EBITDA grew by 32.6% year-on-year.\\n\\nReliance O2C\\n\\nWe delivered a robust operational performance across business segments. Despite inflationary pressure and heightened volatility in feedstock and product prices, the O2C business registered its best-ever annual revenue performance. Annual revenue for FY 2022-23 stood at ₹5,95,672 crore, up 18.5% year-on-year. EBITDA grew by 15.2% to ₹62,408 crore. Exports stood at $33.4 billion, driven by higher price realizations.\\n\\nOur emphasis remains on optimizing the O2C chain to extract value across integrated products and create new demand. We are pursuing opportunities to reduce the carbon footprint of our O2C business and achieve net zero carbon by 2035. We are progressively implementing advanced technologies to reduce emissions, energy intensity, and waste. Our new initiatives include repurposing of existing assets, deployment of new processes to produce high-value material, and increasing the use of recycled materials. For instance, we have set up a new JV named “Reliance Synthomer Ltd” to manufacture nitrile latex for medical gloves. This collaboration is in line with our strategy to increase domestic production of key specialty chemicals and create more value for our O2C business.\\n\\nOur O2C business remains the largest value creator for Reliance, generating sustainable and predictable earnings. We believe that in the coming years, our oil-to-chemical business will remain a significant contributor to Reliance’s overall growth.\\n\\nUpstream Oil & Gas\\n\\nWe witnessed the commissioning of the MJ gas field, which is the third and final development in the KG-D6 block. With the ramp-up of gas production from the MJ field, the KG-D6 block has now achieved gas production of 30 MMSCMD, accounting for nearly one-third of India’s domestic gas production.\\n\\nProduction from the KG-D6 block is a natural hedge against volatility in the gas markets. KG-D6 gas production delivers clean energy to millions of Indians and helps to reduce our dependence on imported gas. I am confident that the ongoing production from KG-D6 will continue to contribute to the nation’s clean energy transition.\\n\\nBroad Vision for Reliance\\n\\nOur broad vision for Reliance is one where growth is achieved in harmony with the welfare of our stakeholders and the protection of our planet. We are investing in the capabilities of our people and are committed to inclusive and sustainable growth for the benefit of all.\\n\\nConclusion\\n\\nDear Shareowners, we have always believed in going beyond the ordinary. I want to reiterate that we are committed to making Reliance a new energy champion, a technology leader, a top employer, a responsible citizen, and a good corporate citizen, while continuing to deliver a strong financial performance.\\n\\nMy dear shareholders, your company is fully geared to embrace and lead the new wave of change. Thank you for your unstinted support.')]"
      ]
     },
     "execution_count": 5,
     "metadata": {},
     "output_type": "execute_result"
    }
   ],
   "source": [
    "documents=loader.load()\n",
    "documents"
   ]
  },
  {
   "cell_type": "code",
   "execution_count": 25,
   "id": "af144ed8-0b99-475d-b911-6a092717a705",
   "metadata": {},
   "outputs": [],
   "source": [
    "text_splitter= RecursiveCharacterTextSplitter(\n",
    "    chunk_size=1000,\n",
    "    chunk_overlap=500,\n",
    "    length_function=len,\n",
    ")"
   ]
  },
  {
   "cell_type": "code",
   "execution_count": 26,
   "id": "bc7707c5-05d3-4ac4-b63f-a245e2fd2f42",
   "metadata": {},
   "outputs": [],
   "source": [
    "docs=text_splitter.split_documents(documents)"
   ]
  },
  {
   "cell_type": "code",
   "execution_count": 27,
   "id": "9f0c4894-9e65-4f1d-96c3-e25c33906e8c",
   "metadata": {},
   "outputs": [
    {
     "data": {
      "text/plain": [
       "Document(metadata={'source': 'Reliance.txt'}, page_content='Adoption of concepts like circularity in our chemical products also brings us closer to a low carbon economy. We have partnered with accomplished innovator entities globally, with whom we share the common goal of establishing a sustainable world economy. We are leveraging their expertise to derive maximum value for our new energy initiatives. We recognize the urgency of addressing the issues emanating from climate change. We believe our new energy initiatives will contribute to the global effort of limiting the rise in average temperatures.')"
      ]
     },
     "execution_count": 27,
     "metadata": {},
     "output_type": "execute_result"
    }
   ],
   "source": [
    "docs[0]"
   ]
  },
  {
   "cell_type": "code",
   "execution_count": 28,
   "id": "218faec3-a3e1-4433-b273-f9ae3c53fa9c",
   "metadata": {},
   "outputs": [
    {
     "data": {
      "text/plain": [
       "23"
      ]
     },
     "execution_count": 28,
     "metadata": {},
     "output_type": "execute_result"
    }
   ],
   "source": [
    "len(docs)"
   ]
  },
  {
   "cell_type": "code",
   "execution_count": 29,
   "id": "ce549e74-1698-4a78-af86-28de738b47ac",
   "metadata": {},
   "outputs": [
    {
     "data": {
      "text/plain": [
       "Document(metadata={'source': 'Reliance.txt'}, page_content='It is important for us to ensure the wellbeing of our employees and communities. We lay great emphasis on the health, safety, and development of all our employees, customers, business partners, and local communities. Human rights considerations have been at the core of Reliance’s DNA since inception. The principles of human rights are enshrined in our internal codes of conduct as well as our business partner codes of conduct. Our Reliance Foundation works round the clock driving initiatives in education, healthcare, and social development that have impacted millions of lives over the years. Abiding by our principle of inclusive growth, our teams across businesses work at a grassroots level to identify the needs of every stakeholder involved and commit to securing their interests and maintaining their satisfaction.')"
      ]
     },
     "execution_count": 29,
     "metadata": {},
     "output_type": "execute_result"
    }
   ],
   "source": [
    "docs[1]"
   ]
  },
  {
   "cell_type": "code",
   "execution_count": 30,
   "id": "b7b57ac3-75d5-4206-a626-65147699e60b",
   "metadata": {},
   "outputs": [],
   "source": [
    "embeddings=OpenAIEmbeddings()#Key redacted for privacy"
   ]
  },
  {
   "cell_type": "code",
   "execution_count": 31,
   "id": "6573f819-9425-4ae6-9e1f-fd21b6b49f45",
   "metadata": {},
   "outputs": [],
   "source": [
    "library=FAISS.from_documents(docs,embeddings)"
   ]
  },
  {
   "cell_type": "code",
   "execution_count": 32,
   "id": "92ff2375-9bc6-45d6-847b-de49c1e9001e",
   "metadata": {},
   "outputs": [],
   "source": [
    "query1=\"Tell me what all ambani said about growth and their expansion plans\"\n"
   ]
  },
  {
   "cell_type": "code",
   "execution_count": 33,
   "id": "02401021-7adc-4948-9b5e-0d8c9c79c1d0",
   "metadata": {},
   "outputs": [],
   "source": [
    "query_answer=library.similarity_search(query1)"
   ]
  },
  {
   "cell_type": "code",
   "execution_count": 34,
   "id": "e9fc76c8-f162-4ec5-850d-4a8830b02783",
   "metadata": {},
   "outputs": [
    {
     "name": "stdout",
     "output_type": "stream",
     "text": [
      "A switch to cleaner energy sources is key to our decarbonisation strategy. We are making significant strides in establishing a world-class solar energy value chain. We are also progressing on building a green hydrogen ecosystem. Our goal is to provide affordable green hydrogen as a viable alternative to traditional fuels. Our goal is to become Net Carbon Zero by 2035. Accordingly, the development of giga factories at the Dhirubhai Ambani Green Energy Giga Complex at Jamnagar is progressing rapidly. Considering the collective potential of our five giga factories, we are well on track for establishing a world-class, self-sufficient green energy ecosystem.\n"
     ]
    }
   ],
   "source": [
    "print(query_answer[0].page_content)"
   ]
  },
  {
   "cell_type": "code",
   "execution_count": 35,
   "id": "2767844c-9f8f-4f69-97fc-e46baf233a43",
   "metadata": {},
   "outputs": [],
   "source": [
    "query2=\"Tell me what was said about Retail, how is went this year, their plans going forward\"\n"
   ]
  },
  {
   "cell_type": "code",
   "execution_count": 36,
   "id": "673379cb-a43e-4675-a4c1-ef3d5c7dd1cd",
   "metadata": {},
   "outputs": [],
   "source": [
    "query_answer2=library.similarity_search(query2)"
   ]
  },
  {
   "cell_type": "code",
   "execution_count": 37,
   "id": "15c83f55-5e7a-4237-bb80-4a30cf2515d0",
   "metadata": {},
   "outputs": [
    {
     "name": "stdout",
     "output_type": "stream",
     "text": [
      "The growth is attributable to a customer-centric approach, adoption of new-age technologies and digital commerce platforms, and customer-oriented strategies. Consumer demand continues to grow steadily, with an increasing preference for organized retailers and established brands. The strength of the retail business is mirrored in its financial performance. Retail business revenues grew 30.4% year-on-year, and EBITDA grew by 32.6% year-on-year.\n",
      "\n",
      "Reliance O2C\n",
      "\n",
      "We delivered a robust operational performance across business segments. Despite inflationary pressure and heightened volatility in feedstock and product prices, the O2C business registered its best-ever annual revenue performance. Annual revenue for FY 2022-23 stood at ₹5,95,672 crore, up 18.5% year-on-year. EBITDA grew by 15.2% to ₹62,408 crore. Exports stood at $33.4 billion, driven by higher price realizations.\n"
     ]
    }
   ],
   "source": [
    "print(query_answer2[0].page_content)"
   ]
  },
  {
   "cell_type": "code",
   "execution_count": 38,
   "id": "a5103bcb-4257-4ee4-8b85-c4ab1a9a884e",
   "metadata": {},
   "outputs": [],
   "source": [
    "query3=\"talk about the operational performance and highlight the new products added\"\n"
   ]
  },
  {
   "cell_type": "code",
   "execution_count": 39,
   "id": "3ceda35c-5ea3-45d1-a5ab-f5a6aa54e407",
   "metadata": {},
   "outputs": [],
   "source": [
    "query_answer3=library.similarity_search(query3)"
   ]
  },
  {
   "cell_type": "code",
   "execution_count": 40,
   "id": "00a1a906-a1e0-4e09-83f3-c13145d2df78",
   "metadata": {},
   "outputs": [
    {
     "name": "stdout",
     "output_type": "stream",
     "text": [
      "The growth is attributable to a customer-centric approach, adoption of new-age technologies and digital commerce platforms, and customer-oriented strategies. Consumer demand continues to grow steadily, with an increasing preference for organized retailers and established brands. The strength of the retail business is mirrored in its financial performance. Retail business revenues grew 30.4% year-on-year, and EBITDA grew by 32.6% year-on-year.\n",
      "\n",
      "Reliance O2C\n",
      "\n",
      "We delivered a robust operational performance across business segments. Despite inflationary pressure and heightened volatility in feedstock and product prices, the O2C business registered its best-ever annual revenue performance. Annual revenue for FY 2022-23 stood at ₹5,95,672 crore, up 18.5% year-on-year. EBITDA grew by 15.2% to ₹62,408 crore. Exports stood at $33.4 billion, driven by higher price realizations.\n"
     ]
    }
   ],
   "source": [
    "print(query_answer3[0].page_content)"
   ]
  },
  {
   "cell_type": "code",
   "execution_count": 41,
   "id": "24a53545-ed9a-4b34-8074-883d4adf24a9",
   "metadata": {},
   "outputs": [
    {
     "name": "stdout",
     "output_type": "stream",
     "text": [
      "Robust Operational Performance\n",
      "\n",
      "Reliance touches the lives of millions of consumers in India and worldwide through its energy and consumer businesses. Our teams across businesses work dedicatedly to achieve operational excellence and deliver quality performance. Premier League on Jio Cinema. Jio Platforms powered the technology behind streaming these events. The new home broadband backup plan is the latest addition to the bouquet of broadband services and is expected to grow the broadband market further. Jio retained its preeminent position in the Indian telecom space with 439.3 million subscribers as of March 2023, with a net addition of 29.2 million subscribers during the year. The strong growth in the digital services business is aptly reflected in its financial performance for the year. With an increase of 24.9% from the previous year, digital services EBITDA for FY 2022-23 stood at ₹50,286 crore.\n"
     ]
    }
   ],
   "source": [
    "print(query_answer3[1].page_content)"
   ]
  },
  {
   "cell_type": "code",
   "execution_count": 42,
   "id": "97d5f383-8f33-40c8-8299-784dee9d1824",
   "metadata": {},
   "outputs": [
    {
     "name": "stdout",
     "output_type": "stream",
     "text": [
      "Our emphasis remains on optimizing the O2C chain to extract value across integrated products and create new demand. We are pursuing opportunities to reduce the carbon footprint of our O2C business and achieve net zero carbon by 2035. We are progressively implementing advanced technologies to reduce emissions, energy intensity, and waste. Our new initiatives include repurposing of existing assets, deployment of new processes to produce high-value material, and increasing the use of recycled materials. For instance, we have set up a new JV named “Reliance Synthomer Ltd” to manufacture nitrile latex for medical gloves. This collaboration is in line with our strategy to increase domestic production of key specialty chemicals and create more value for our O2C business.\n"
     ]
    }
   ],
   "source": [
    "print(query_answer3[2].page_content)"
   ]
  },
  {
   "cell_type": "code",
   "execution_count": 43,
   "id": "b80e8e8a-eb16-4bc8-9fbf-cb21ec31211b",
   "metadata": {},
   "outputs": [],
   "source": [
    "docs_scores=library.similarity_search_with_score(query1)"
   ]
  },
  {
   "cell_type": "code",
   "execution_count": 44,
   "id": "6bed63f6-a511-4946-a5d3-3bd3d8dced58",
   "metadata": {},
   "outputs": [
    {
     "data": {
      "text/plain": [
       "(Document(metadata={'source': 'Reliance.txt'}, page_content='A switch to cleaner energy sources is key to our decarbonisation strategy. We are making significant strides in establishing a world-class solar energy value chain. We are also progressing on building a green hydrogen ecosystem. Our goal is to provide affordable green hydrogen as a viable alternative to traditional fuels. Our goal is to become Net Carbon Zero by 2035. Accordingly, the development of giga factories at the Dhirubhai Ambani Green Energy Giga Complex at Jamnagar is progressing rapidly. Considering the collective potential of our five giga factories, we are well on track for establishing a world-class, self-sufficient green energy ecosystem.'),\n",
       " 0.36678034)"
      ]
     },
     "execution_count": 44,
     "metadata": {},
     "output_type": "execute_result"
    }
   ],
   "source": [
    "docs_scores[0]"
   ]
  },
  {
   "cell_type": "code",
   "execution_count": 45,
   "id": "d1515726-decb-4787-a9cf-5779156ef228",
   "metadata": {},
   "outputs": [
    {
     "data": {
      "text/plain": [
       "(Document(metadata={'source': 'Reliance.txt'}, page_content='CONSOLIDATED EBITDA\\n₹1,53,920 CRORE\\n\\nCONSOLIDATED NET PROFIT\\n₹73,670 CRORE\\n\\nDear and esteemed fellow shareholders, We, at Reliance, have a deep-rooted belief that sustainability is an integral part of enterprise growth. The tremendous stress that mankind has exerted on natural resources since the advent of the Industrial Revolution has brought us to a stage where we need to collectively ramp up our efforts to combat climate change.\\n\\nThe Paris Agreement of 2015, entered into at the 21st Conference of Parties (COP 21), brought the world together in this pursuit. Our company’s ESG ambitions are aligned with this global quest. On a personal note, it is a privilege for me to serve on the Advisory Committee of COP 28 UAE and contribute to this ongoing effort.'),\n",
       " 0.3825142)"
      ]
     },
     "execution_count": 45,
     "metadata": {},
     "output_type": "execute_result"
    }
   ],
   "source": [
    "docs_scores[1]"
   ]
  },
  {
   "cell_type": "code",
   "execution_count": null,
   "id": "ef58bb80-d810-4483-afc1-b8036097b582",
   "metadata": {},
   "outputs": [],
   "source": []
  }
 ],
 "metadata": {
  "kernelspec": {
   "display_name": "Python 3.12 (myenv)",
   "language": "python",
   "name": "myenv"
  },
  "language_info": {
   "codemirror_mode": {
    "name": "ipython",
    "version": 3
   },
   "file_extension": ".py",
   "mimetype": "text/x-python",
   "name": "python",
   "nbconvert_exporter": "python",
   "pygments_lexer": "ipython3",
   "version": "3.12.2"
  }
 },
 "nbformat": 4,
 "nbformat_minor": 5
}
